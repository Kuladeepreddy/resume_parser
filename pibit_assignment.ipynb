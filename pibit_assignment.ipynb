{
  "nbformat": 4,
  "nbformat_minor": 0,
  "metadata": {
    "colab": {
      "provenance": []
    },
    "kernelspec": {
      "name": "python3",
      "display_name": "Python 3"
    },
    "language_info": {
      "name": "python"
    }
  },
  "cells": [
    {
      "cell_type": "code",
      "execution_count": 4,
      "metadata": {
        "colab": {
          "base_uri": "https://localhost:8080/"
        },
        "id": "2cDsigZw0RGL",
        "outputId": "3a3498d5-cb18-455c-dcdb-0f7e5265b406"
      },
      "outputs": [
        {
          "output_type": "stream",
          "name": "stdout",
          "text": [
            "{\n",
            "    \"Name\": \"KULADEEP REDDY N\",\n",
            "    \"Phone\": \"\",\n",
            "    \"Email\": \"\",\n",
            "    \"Location\": \"\",\n",
            "    \"Career Objective\": \"\",\n",
            "    \"Education\": {\n",
            "        \"Degree\": \"\",\n",
            "        \"Institution\": \"\",\n",
            "        \"Duration\": \"\"\n",
            "    },\n",
            "    \"Internships\": [],\n",
            "    \"Professional Proficiency\": {\n",
            "        \"Technical Skills\": \"\",\n",
            "        \"Languages\": \"\",\n",
            "        \"Tools\": \"\",\n",
            "        \"Soft Skills\": \"\"\n",
            "    },\n",
            "    \"Projects\": [],\n",
            "    \"Certifications and Badges\": [],\n",
            "    \"Extra Curricular\": []\n",
            "}\n"
          ]
        }
      ],
      "source": [
        "from PyPDF2 import PdfReader\n",
        "import json\n",
        "\n",
        "def parse_resume(pdf_file):\n",
        "    parsed_data = {\n",
        "        \"Name\": \"\",\n",
        "        \"Phone\": \"\",\n",
        "        \"Email\": \"\",\n",
        "        \"Location\": \"\",\n",
        "        \"Career Objective\": \"\",\n",
        "        \"Education\": {\n",
        "            \"Degree\": \"\",\n",
        "            \"Institution\": \"\",\n",
        "            \"Duration\": \"\"\n",
        "        },\n",
        "        \"Internships\": [],\n",
        "        \"Professional Proficiency\": {\n",
        "            \"Technical Skills\": \"\",\n",
        "            \"Languages\": \"\",\n",
        "            \"Tools\": \"\",\n",
        "            \"Soft Skills\": \"\"\n",
        "        },\n",
        "        \"Projects\": [],\n",
        "        \"Certifications and Badges\": [],\n",
        "        \"Extra Curricular\": []\n",
        "    }\n",
        "\n",
        "    with open(pdf_file, 'rb') as file:\n",
        "        reader = PdfReader(file)\n",
        "        text = ''\n",
        "        for page_num in range(len(reader.pages)):\n",
        "            text += reader.pages[page_num].extract_text()\n",
        "\n",
        "    sections = text.split('\\n\\n')\n",
        "\n",
        "    current_section = None\n",
        "    for section in sections:\n",
        "        if section.startswith(\"KULADEEP REDDY N\"):\n",
        "            parsed_data[\"Name\"] = \"KULADEEP REDDY N\"\n",
        "        elif \"+91\" in section:\n",
        "            parsed_data[\"Phone\"] = section.strip()\n",
        "        elif \"@\" in section:\n",
        "            parsed_data[\"Email\"] = section.strip()\n",
        "        elif \"Chennai, Tamil Nadu\" in section:\n",
        "            parsed_data[\"Location\"] = \"Chennai, Tamil Nadu\"\n",
        "        elif section.startswith(\"CAREER OBJECTIVE\"):\n",
        "            current_section = \"Career Objective\"\n",
        "            parsed_data[current_section] = section.split(\"CAREER OBJECTIVE\")[1].strip()\n",
        "        elif section.startswith(\"EDUCATION\"):\n",
        "            current_section = \"Education\"\n",
        "            parsed_data[current_section][\"Degree\"] = section.strip().split(\"\\n\")[1]\n",
        "            parsed_data[current_section][\"Institution\"] = section.strip().split(\"\\n\")[2]\n",
        "            parsed_data[current_section][\"Duration\"] = section.strip().split(\"\\n\")[3]\n",
        "        elif section.startswith(\"INTERNSHIP\"):\n",
        "            current_section = \"Internships\"\n",
        "            parsed_data[current_section].append({\"Title\": section})\n",
        "        elif section.startswith(\"PROFESSIONAL PROFICIENCY\"):\n",
        "            current_section = \"Professional Proficiency\"\n",
        "            parsed_data[current_section][\"Technical Skills\"] = section.strip().split(\"\\n\")[1]\n",
        "            parsed_data[current_section][\"Languages\"] = section.strip().split(\"\\n\")[2]\n",
        "            parsed_data[current_section][\"Tools\"] = section.strip().split(\"\\n\")[3]\n",
        "            parsed_data[current_section][\"Soft Skills\"] = section.strip().split(\"\\n\")[4]\n",
        "        elif section.startswith(\"PROJECTS\"):\n",
        "            current_section = \"Projects\"\n",
        "            parsed_data[current_section].append({\"Title\": section})\n",
        "        elif section.startswith(\"CERTIFICATIONS AND BADGES\"):\n",
        "            current_section = \"Certifications and Badges\"\n",
        "            parsed_data[current_section].append({\"Title\": section})\n",
        "        elif section.startswith(\"EXTRA CURRICULAR\"):\n",
        "            current_section = \"Extra Curricular\"\n",
        "            parsed_data[current_section].append({\"Title\": section})\n",
        "\n",
        "    return json.dumps(parsed_data, indent=4)\n",
        "\n",
        "# Example usage\n",
        "if __name__ == '__main__':\n",
        "    resume_file = '/content/my_new_resume.pdf'  # Replace with your actual path to the resume PDF file\n",
        "    parsed_resume = parse_resume(resume_file)\n",
        "    print(parsed_resume)\n"
      ]
    },
    {
      "cell_type": "code",
      "source": [],
      "metadata": {
        "id": "MoOSW8It2hNU"
      },
      "execution_count": null,
      "outputs": []
    }
  ]
}